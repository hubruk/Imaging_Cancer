{
 "cells": [
  {
   "cell_type": "code",
   "execution_count": 2,
   "id": "087f0316",
   "metadata": {},
   "outputs": [],
   "source": [
    "from glob import glob\n",
    "import shutil\n",
    "import os\n",
    "import dicom2nifti\n",
    "import nibabel\n",
    "import numpy as np\n",
    "import pydicom as dicom"
   ]
  },
  {
   "cell_type": "code",
   "execution_count": 3,
   "id": "f71416c7",
   "metadata": {},
   "outputs": [],
   "source": [
    "# deleting empty"
   ]
  },
  {
   "cell_type": "code",
   "execution_count": 4,
   "id": "8d9d2c07",
   "metadata": {},
   "outputs": [],
   "source": [
    "to_empty_path = 'D:/AI_Imaging/Cancer_Recognision/Liver1/dicom_files'"
   ]
  },
  {
   "cell_type": "code",
   "execution_count": 5,
   "id": "1af88cf0",
   "metadata": {},
   "outputs": [],
   "source": [
    "def delet_worthless_data(path):\n",
    "                list_labels_all = glob(path + '/labels/*')\n",
    "                empty_dcoms = {}\n",
    "\n",
    "                #listing all labels data \n",
    "                for folder in list_labels_all:\n",
    "                        list_of_fotos = glob(folder + '/*.dcm')\n",
    "                        empty_dcoms[folder] = []\n",
    "                        for foto in list_of_fotos:\n",
    "                                dcm = dicom.dcmread(foto).pixel_array\n",
    "                                np_unique = np.unique(dcm)\n",
    "                                if len(np_unique) == 1:\n",
    "                                        empty_dcoms[\"{0}\".format(folder)].append(foto)\n",
    "\n",
    "                #normalizing labels name data\n",
    "                empty_dcoms_norm = {}\n",
    "                for i in empty_dcoms:\n",
    "                        helper = i.split('\\\\')\n",
    "                        empty_dcoms_norm[helper[1]] = []\n",
    "                        for dcom in empty_dcoms[i]:\n",
    "                                split = dcom.split('\\\\')\n",
    "                                empty_dcoms_norm[helper[1]].append(split[2])\n",
    "\n",
    "                #deleting worhless ones\n",
    "                for folder in empty_dcoms_norm:\n",
    "                        to_empty_path_img = path + '/img/' + folder +'/'\n",
    "                        to_empty_path_labels = path + '/labels/' + folder +'/'\n",
    "                        for name in empty_dcoms_norm[folder]:\n",
    "                                os.remove(os.path.normpath(to_empty_path_img + name))\n",
    "                                os.remove(os.path.normpath(to_empty_path_labels + name))"
   ]
  },
  {
   "cell_type": "code",
   "execution_count": 6,
   "id": "ca8c2e33",
   "metadata": {},
   "outputs": [],
   "source": [
    "delet_worthless_data(to_empty_path)"
   ]
  },
  {
   "cell_type": "code",
   "execution_count": 7,
   "id": "0068013c",
   "metadata": {},
   "outputs": [],
   "source": [
    "### We need nifties with same or close amount of slices per photo otherwise we will lose a lot of data."
   ]
  },
  {
   "cell_type": "code",
   "execution_count": 8,
   "id": "a88f79d3",
   "metadata": {},
   "outputs": [],
   "source": [
    "# conversion dcom files into groups of 37 dicoms (slices)"
   ]
  },
  {
   "cell_type": "code",
   "execution_count": 9,
   "id": "3654e738",
   "metadata": {},
   "outputs": [],
   "source": [
    "number_of_slices = 37\n",
    "files_labels_input_path = \"D:/AI_Imaging/Cancer_Recognision/Liver1/dicom_files/labels\"\n",
    "groups_labels_output_path = \"D:/AI_Imaging/Cancer_Recognision/Liver1/dicom_groups/labels\"\n",
    "files_img_input_path = \"D:/AI_Imaging/Cancer_Recognision/Liver1/dicom_files/img\"\n",
    "groups_img_output_path = \"D:/AI_Imaging/Cancer_Recognision/Liver1/dicom_groups/img\""
   ]
  },
  {
   "cell_type": "code",
   "execution_count": 10,
   "id": "adcfb1c9",
   "metadata": {},
   "outputs": [],
   "source": [
    "def split_function(input, output):\n",
    "                for folder in glob(input + '/*'):\n",
    "                        folder_name = os.path.basename(os.path.normpath(folder))\n",
    "                        slice_ratio = int(len(glob(folder + '/*.dcm'))/number_of_slices)\n",
    "                        #dividing dicoms into new folders - to have equal parts\n",
    "                        for i in range(slice_ratio):\n",
    "                                output_path_name = os.path.join(output, folder_name + '_' + str(i))\n",
    "                                os.mkdir(output_path_name)\n",
    "                                for i, file in enumerate(glob(folder + '/*.dcm')):\n",
    "                                                if i == number_of_slices:\n",
    "                                                        break\n",
    "                                                shutil.move(file, output_path_name)\n"
   ]
  },
  {
   "cell_type": "code",
   "execution_count": 11,
   "id": "24133c54",
   "metadata": {},
   "outputs": [],
   "source": [
    "split_function(files_img_input_path, groups_img_output_path)\n",
    "split_function(files_labels_input_path, groups_labels_output_path)"
   ]
  },
  {
   "cell_type": "code",
   "execution_count": 12,
   "id": "f94c9d5d",
   "metadata": {},
   "outputs": [],
   "source": [
    "# conversion to nifti files"
   ]
  },
  {
   "cell_type": "code",
   "execution_count": 13,
   "id": "ff4fc791",
   "metadata": {},
   "outputs": [],
   "source": [
    "#!pip install dicom2nifti"
   ]
  },
  {
   "cell_type": "code",
   "execution_count": 14,
   "id": "8f52a92f",
   "metadata": {},
   "outputs": [],
   "source": [
    "groups_img_input_path = groups_img_output_path + '/*'\n",
    "groups_labels_input_path = groups_labels_output_path + '/*'\n",
    "nifti_img_out_path = 'D:/AI_Imaging/Cancer_Recognision/Liver1/nifti_final_files/img/'\n",
    "nifti_labels_out_path = 'D:/AI_Imaging/Cancer_Recognision/Liver1/nifti_final_files/labels/'\n",
    "\n",
    "list_img = glob(groups_img_input_path)\n",
    "list_labels = glob(groups_labels_input_path)"
   ]
  },
  {
   "cell_type": "code",
   "execution_count": 15,
   "id": "0d0f8aa6",
   "metadata": {},
   "outputs": [],
   "source": [
    "def conv_dicom2nifti(list, output):\n",
    "        for foto in list:\n",
    "                foto_name = os.path.basename(os.path.normpath(foto))\n",
    "                dicom2nifti.dicom_series_to_nifti(foto, os.path.join(output, foto_name + '.nii'))"
   ]
  },
  {
   "cell_type": "code",
   "execution_count": 16,
   "id": "c58c6fa8",
   "metadata": {},
   "outputs": [],
   "source": [
    "conv_dicom2nifti(list_img, nifti_img_out_path)\n",
    "conv_dicom2nifti(list_labels, nifti_labels_out_path)"
   ]
  },
  {
   "cell_type": "code",
   "execution_count": 17,
   "id": "019bb1e7",
   "metadata": {},
   "outputs": [],
   "source": [
    "# splitting data "
   ]
  },
  {
   "cell_type": "code",
   "execution_count": 18,
   "id": "f4bf544d",
   "metadata": {},
   "outputs": [],
   "source": [
    "splitted_nifti_out_path = 'D:/AI_Imaging/Cancer_Recognision/Liver1/splitted_nifti_final_files/'"
   ]
  },
  {
   "cell_type": "code",
   "execution_count": 30,
   "id": "ec204b43",
   "metadata": {},
   "outputs": [],
   "source": [
    "def split_data(img_path, label_path, train_size):\n",
    "    img_nifti_list = sorted(glob(img_path + \"\\*\"))\n",
    "    lab_nifti_list = sorted(glob(label_path + \"\\*\"))\n",
    "    nifti_len = len(img_nifti_list)\n",
    "    \n",
    "    for i, (img, lab) in enumerate(zip(img_nifti_list, lab_nifti_list)):\n",
    "        if i/nifti_len <= train_size:\n",
    "            shutil.copy(img, os.path.join(splitted_nifti_out_path, \"train_img\"))\n",
    "            shutil.copy(lab, os.path.join(splitted_nifti_out_path, \"train_labels\"))\n",
    "        else:\n",
    "            shutil.copy(img, os.path.join(splitted_nifti_out_path, \"test_img\"))\n",
    "            shutil.copy(lab, os.path.join(splitted_nifti_out_path, \"test_labels\"))\n"
   ]
  },
  {
   "cell_type": "code",
   "execution_count": 33,
   "id": "3237d8e8",
   "metadata": {},
   "outputs": [],
   "source": [
    "split_data(nifti_img_out_path, nifti_labels_out_path, 0.7)"
   ]
  }
 ],
 "metadata": {
  "kernelspec": {
   "display_name": "Python 3.8.13 ('liver_img')",
   "language": "python",
   "name": "python3"
  },
  "language_info": {
   "codemirror_mode": {
    "name": "ipython",
    "version": 3
   },
   "file_extension": ".py",
   "mimetype": "text/x-python",
   "name": "python",
   "nbconvert_exporter": "python",
   "pygments_lexer": "ipython3",
   "version": "3.8.13"
  },
  "vscode": {
   "interpreter": {
    "hash": "8fb5ab95418b4447ee96d815abaa5603335f8dd1f53e42480888a712923129fb"
   }
  }
 },
 "nbformat": 4,
 "nbformat_minor": 5
}
